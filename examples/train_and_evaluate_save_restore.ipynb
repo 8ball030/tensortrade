{
 "cells": [
  {
   "cell_type": "markdown",
   "metadata": {},
   "source": [
    "## Setup Data Fetching"
   ]
  },
  {
   "cell_type": "code",
   "execution_count": 56,
   "metadata": {},
   "outputs": [],
   "source": [
    "import pandas as pd\n",
    "import tensortrade.env.default as default\n",
    "\n",
    "from tensortrade.data.cdd import CryptoDataDownload\n",
    "from tensortrade.feed.core import Stream, DataFeed\n",
    "from tensortrade.oms.exchanges import Exchange\n",
    "from tensortrade.oms.services.execution.simulated import execute_order\n",
    "from tensortrade.oms.instruments import USD, BTC, ETH\n",
    "from tensortrade.oms.wallets import Wallet, Portfolio\n",
    "from tensortrade.agents import DQNAgent\n",
    "from ta import add_all_ta_features\n"
   ]
  },
  {
   "cell_type": "code",
   "execution_count": 57,
   "metadata": {},
   "outputs": [
    {
     "name": "stderr",
     "output_type": "stream",
     "text": [
      "/home/tom/.local/lib/python3.6/site-packages/ta/trend.py:768: RuntimeWarning:\n",
      "\n",
      "invalid value encountered in double_scalars\n",
      "\n",
      "/home/tom/.local/lib/python3.6/site-packages/ta/trend.py:772: RuntimeWarning:\n",
      "\n",
      "invalid value encountered in double_scalars\n",
      "\n"
     ]
    },
    {
     "name": "stdout",
     "output_type": "stream",
     "text": [
      "23130\n"
     ]
    }
   ],
   "source": [
    "# gather data\n",
    "def get_feed(n_events=None):\n",
    "    cdd = CryptoDataDownload()\n",
    "    data = cdd.fetch(\"Bitstamp\", \"USD\", \"BTC\", \"1h\")\n",
    "    data = add_all_ta_features(data, 'open', 'high', 'low', 'close', 'volume')\n",
    "    \n",
    "    if n_events is not None:\n",
    "        data = data.iloc[n_events:]\n",
    "    print(len(data))\n",
    "    features = []\n",
    "    for c in data.columns[2:]:\n",
    "        s = Stream.source(list(data[c]), dtype=\"float\").rename(data[c].name)\n",
    "        features += [s]\n",
    "    feed = DataFeed(features)\n",
    "    feed.compile()    \n",
    "    return data, feed\n",
    "\n",
    "data, feed = get_feed()"
   ]
  },
  {
   "cell_type": "code",
   "execution_count": 82,
   "metadata": {},
   "outputs": [],
   "source": [
    "# Create environment\n",
    "def create_env(config=None):  \n",
    "    bitstamp = Exchange(\"bitstamp\", service=execute_order)(\n",
    "        Stream.source(list(data[\"close\"]), dtype=\"float\").rename(\"USD-BTC\")\n",
    "    )\n",
    "\n",
    "    portfolio = Portfolio(USD, [\n",
    "        Wallet(bitstamp, 10000 * USD),\n",
    "        Wallet(bitstamp, 10 * BTC)\n",
    "    ])\n",
    "\n",
    "\n",
    "    renderer_feed = DataFeed([\n",
    "        Stream.source(list(data[\"date\"])).rename(\"date\"),\n",
    "        Stream.source(list(data[\"open\"]), dtype=\"float\").rename(\"open\"),\n",
    "        Stream.source(list(data[\"high\"]), dtype=\"float\").rename(\"high\"),\n",
    "        Stream.source(list(data[\"low\"]), dtype=\"float\").rename(\"low\"),\n",
    "        Stream.source(list(data[\"close\"]), dtype=\"float\").rename(\"close\"), \n",
    "        Stream.source(list(data[\"volume\"]), dtype=\"float\").rename(\"volume\") \n",
    "    ])\n",
    "\n",
    "\n",
    "    env = default.create(\n",
    "        portfolio=portfolio,\n",
    "        action_scheme=\"simple\",\n",
    "        reward_scheme=\"risk-adjusted\",\n",
    "        feed=feed,\n",
    "        renderer_feed=renderer_feed,\n",
    "        renderer=default.renderers.FileLogger(),\n",
    "        window_size=20\n",
    "    )\n",
    "    return env\n",
    "\n",
    "env = create_env()"
   ]
  },
  {
   "cell_type": "markdown",
   "metadata": {},
   "source": [
    "## Setup and Train DQN Agent"
   ]
  },
  {
   "cell_type": "code",
   "execution_count": 83,
   "metadata": {
    "scrolled": true
   },
   "outputs": [
    {
     "name": "stdout",
     "output_type": "stream",
     "text": [
      "The autoreload extension is already loaded. To reload it, use:\n",
      "  %reload_ext autoreload\n"
     ]
    }
   ],
   "source": [
    "%load_ext autoreload\n",
    "%autoreload 2\n"
   ]
  },
  {
   "cell_type": "code",
   "execution_count": 84,
   "metadata": {},
   "outputs": [],
   "source": [
    "# create agent\n",
    "def get_agent(env, agent_id=None):\n",
    "    agent = DQNAgent(env)\n",
    "    if agent_id is not None:\n",
    "        agent.id = \"TEST_AGENT\"\n",
    "    return agent\n",
    "\n",
    "\n",
    "agent = get_agent(env=env, agent_id=\"TEST_AGENT\")\n"
   ]
  },
  {
   "cell_type": "code",
   "execution_count": 85,
   "metadata": {},
   "outputs": [
    {
     "name": "stdout",
     "output_type": "stream",
     "text": [
      "====      AGENT ID: TEST_AGENT      ====\n",
      "-1120081.1682655017\n"
     ]
    }
   ],
   "source": [
    "# train the agent\n",
    "\n",
    "mean_reward = agent.train(n_steps=len(data) / 100,\n",
    "                          n_episodes=1,\n",
    "                          save_every=1\n",
    "                         )\n",
    "\n",
    "agent.save(\"./\")\n",
    "\n",
    "print(mean_reward)"
   ]
  },
  {
   "cell_type": "code",
   "execution_count": 86,
   "metadata": {},
   "outputs": [],
   "source": [
    "# remove the agent\n",
    "del agent"
   ]
  },
  {
   "cell_type": "code",
   "execution_count": 87,
   "metadata": {},
   "outputs": [
    {
     "name": "stdout",
     "output_type": "stream",
     "text": [
      "WARNING:tensorflow:No training configuration found in the save file, so the model was *not* compiled. Compile it manually.\n"
     ]
    }
   ],
   "source": [
    "# we restore the agent\n",
    "\n",
    "agent = get_agent(env=env, agent_id=\"TEST_AGENT\")\n",
    "\n",
    "agent.restore(\"./policy_network__TEST_AGENT.hdf5\")\n"
   ]
  },
  {
   "cell_type": "code",
   "execution_count": 88,
   "metadata": {},
   "outputs": [],
   "source": [
    "# now we have restored our agent, we can save our model\n",
    "agent.save(\"./\")\n"
   ]
  },
  {
   "cell_type": "code",
   "execution_count": 89,
   "metadata": {},
   "outputs": [
    {
     "data": {
      "text/plain": [
       "array([[0.0000000e+00, 0.0000000e+00, 0.0000000e+00, ..., 0.0000000e+00,\n",
       "        0.0000000e+00, 0.0000000e+00],\n",
       "       [0.0000000e+00, 0.0000000e+00, 0.0000000e+00, ..., 0.0000000e+00,\n",
       "        0.0000000e+00, 0.0000000e+00],\n",
       "       [0.0000000e+00, 0.0000000e+00, 0.0000000e+00, ..., 0.0000000e+00,\n",
       "        0.0000000e+00, 0.0000000e+00],\n",
       "       ...,\n",
       "       [0.0000000e+00, 0.0000000e+00, 0.0000000e+00, ..., 0.0000000e+00,\n",
       "        0.0000000e+00, 0.0000000e+00],\n",
       "       [0.0000000e+00, 0.0000000e+00, 0.0000000e+00, ..., 0.0000000e+00,\n",
       "        0.0000000e+00, 0.0000000e+00],\n",
       "       [8.7338604e+03, 8.7966797e+03, 8.7072803e+03, ..., 2.3184912e+00,\n",
       "        0.0000000e+00, 0.0000000e+00]], dtype=float32)"
      ]
     },
     "execution_count": 89,
     "metadata": {},
     "output_type": "execute_result"
    }
   ],
   "source": [
    "# we reset the environment\n",
    "\n",
    "initial_state = agent.env.reset()\n",
    "\n",
    "initial_state"
   ]
  },
  {
   "cell_type": "code",
   "execution_count": 90,
   "metadata": {},
   "outputs": [
    {
     "data": {
      "text/plain": [
       "15"
      ]
     },
     "execution_count": 90,
     "metadata": {},
     "output_type": "execute_result"
    }
   ],
   "source": [
    "# predict our next action\n",
    "\n",
    "agent.get_action(state=initial_state)"
   ]
  },
  {
   "cell_type": "code",
   "execution_count": 91,
   "metadata": {},
   "outputs": [
    {
     "data": {
      "text/plain": [
       "Discrete(21)"
      ]
     },
     "execution_count": 91,
     "metadata": {},
     "output_type": "execute_result"
    }
   ],
   "source": [
    "env.action_space"
   ]
  },
  {
   "cell_type": "code",
   "execution_count": null,
   "metadata": {},
   "outputs": [],
   "source": []
  }
 ],
 "metadata": {
  "kernelspec": {
   "display_name": "Python 3",
   "language": "python",
   "name": "python3"
  },
  "language_info": {
   "codemirror_mode": {
    "name": "ipython",
    "version": 3
   },
   "file_extension": ".py",
   "mimetype": "text/x-python",
   "name": "python",
   "nbconvert_exporter": "python",
   "pygments_lexer": "ipython3",
   "version": "3.6.9"
  }
 },
 "nbformat": 4,
 "nbformat_minor": 4
}
